{
 "cells": [
  {
   "cell_type": "code",
   "execution_count": 1,
   "id": "56274cce-47c2-4d7b-9240-063258e04638",
   "metadata": {},
   "outputs": [],
   "source": [
    "import pandas as pd\n",
    "import numpy as np\n",
    "import warnings\n",
    "import tkinter as tk\n",
    "warnings.filterwarnings('ignore')"
   ]
  },
  {
   "cell_type": "code",
   "execution_count": 4,
   "id": "997967b1-68bc-4580-9741-6d3328392e2b",
   "metadata": {},
   "outputs": [],
   "source": [
    "cols = 'user_ID Item_ID rating timestamp'.split()\n",
    "dat=pd.read_csv('u.data',sep='\\t',names=cols)\n",
    "mcol=['Item_ID','title']+[str(i) for i in range(22)]\n",
    "mdat=pd.read_csv('u.item',sep=\"|\",names=mcol)\n",
    "mdat=mdat[['Item_ID','title']]\n",
    "det=pd.merge(dat,mdat,on='Item_ID')\n",
    "rat=pd.DataFrame(det.groupby('title')['rating'].mean())\n",
    "rat['count']=det['title'].value_counts()\n",
    "pvt=det.pivot_table(index='user_ID', columns='title',values='rating')\n",
    "\n",
    "\n",
    "\n",
    "gh=tk.Tk()\n",
    "gh.title('Recomendation system')\n",
    "gh.geometry('500x400')\n",
    "gh.configure(bg='#769c96')\n",
    "\n",
    "\n",
    "tk.Label(gh,text='Movie watched',bg='#239999').place(x=20,y=60)\n",
    "tk.Label(gh,text='Recomended to you',bg='#239999').place(x=20,y=250)\n",
    "tk.Label(gh,text='Also watch',bg='#239999').place(x=20,y=300)\n",
    "\n",
    "mv=tk.Variable(gh)\n",
    "rec=tk.Variable(gh)\n",
    "als=tk.Variable(gh)\n",
    "\n",
    "rec.set('type movie name')\n",
    "als.set('type movie name')\n",
    "\n",
    "tk.Entry(gh,textvariable=mv,bg='#239999',width=40).place(x=150,y=60)\n",
    "tk.Label(gh,textvariable=rec,bg='#239999',width=40).place(x=150,y=250)\n",
    "tk.Label(gh,textvariable=als,bg='#239999',width=40).place(x=150,y=300)\n",
    "\n",
    "\n",
    "def fiind():\n",
    "    ab=mv.get().lower().strip()\n",
    "    if ab:\n",
    "        try:\n",
    "            ab=mdat['title'][mdat['title'].apply(lambda x: ab in x.lower())].values[0]\n",
    "            mv.set(ab)\n",
    "        except IndexError:\n",
    "            rec.set('movie not found')\n",
    "            als.set('movie not found')\n",
    "        else:    \n",
    "            abc=pvt[ab]\n",
    "            qwe=pvt.corrwith(abc)\n",
    "            ert=pd.DataFrame(qwe,columns=['correlation'])\n",
    "            ert.dropna(inplace=True)\n",
    "            ert=ert.join(rat['count'])\n",
    "            rec.set(ert[(ert['count']>150)&(ert['correlation']>0.5)].sort_values(by='correlation',ascending=False).index[1])\n",
    "            als.set(ert[ert['correlation']>0.5].sort_values(by='correlation',ascending=False).index[0])    \n",
    "    \n",
    "    \n",
    "tk.Button(gh,text='Find Recommends',command=fiind,bg='#20c7c7').place(x=180,y=150)\n",
    "\n",
    "\n",
    "\n",
    "gh.mainloop()\n"
   ]
  },
  {
   "cell_type": "code",
   "execution_count": null,
   "id": "7bb7381d-46aa-4866-b253-49a3e9b50843",
   "metadata": {},
   "outputs": [],
   "source": []
  }
 ],
 "metadata": {
  "kernelspec": {
   "display_name": "Python 3",
   "language": "python",
   "name": "python3"
  },
  "language_info": {
   "codemirror_mode": {
    "name": "ipython",
    "version": 3
   },
   "file_extension": ".py",
   "mimetype": "text/x-python",
   "name": "python",
   "nbconvert_exporter": "python",
   "pygments_lexer": "ipython3",
   "version": "3.8.8"
  }
 },
 "nbformat": 4,
 "nbformat_minor": 5
}
